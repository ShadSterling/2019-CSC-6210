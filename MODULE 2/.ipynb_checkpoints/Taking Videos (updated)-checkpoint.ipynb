{
 "cells": [
  {
   "cell_type": "code",
   "execution_count": 7,
   "metadata": {},
   "outputs": [
    {
     "name": "stdout",
     "output_type": "stream",
     "text": [
      "Download my_video.h264 to watch\n"
     ]
    }
   ],
   "source": [
    "import picamera\n",
    "from IPython.display import Video\n",
    "\n",
    "with picamera.PiCamera() as camera:\n",
    "    camera.resolution = (640, 480)\n",
    "    camera.start_recording('my_video.h264')\n",
    "    camera.wait_recording(5)\n",
    "    camera.stop_recording()\n",
    "\n",
    "print( \"Download my_video.h264 to watch\" )"
   ]
  },
  {
   "cell_type": "code",
   "execution_count": null,
   "metadata": {},
   "outputs": [],
   "source": []
  }
 ],
 "metadata": {
  "kernelspec": {
   "display_name": "Python 3",
   "language": "python",
   "name": "python3"
  },
  "language_info": {
   "codemirror_mode": {
    "name": "ipython",
    "version": 3
   },
   "file_extension": ".py",
   "mimetype": "text/x-python",
   "name": "python",
   "nbconvert_exporter": "python",
   "pygments_lexer": "ipython3",
   "version": "3.6.6"
  }
 },
 "nbformat": 4,
 "nbformat_minor": 4
}
