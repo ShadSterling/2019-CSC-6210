{
 "cells": [
  {
   "cell_type": "code",
   "execution_count": 3,
   "metadata": {},
   "outputs": [
    {
     "data": {
      "application/vnd.jupyter.widget-view+json": {
       "model_id": "4e92f63eab904793a06817715e83161d",
       "version_major": 2,
       "version_minor": 0
      },
      "text/html": [
       "<p>Failed to display Jupyter Widget of type <code>VBox</code>.</p>\n",
       "<p>\n",
       "  If you're reading this message in the Jupyter Notebook or JupyterLab Notebook, it may mean\n",
       "  that the widgets JavaScript is still loading. If this message persists, it\n",
       "  likely means that the widgets JavaScript library is either not installed or\n",
       "  not enabled. See the <a href=\"https://ipywidgets.readthedocs.io/en/stable/user_install.html\">Jupyter\n",
       "  Widgets Documentation</a> for setup instructions.\n",
       "</p>\n",
       "<p>\n",
       "  If you're reading this message in another frontend (for example, a static\n",
       "  rendering on GitHub or <a href=\"https://nbviewer.jupyter.org/\">NBViewer</a>),\n",
       "  it may mean that your frontend doesn't currently support widgets.\n",
       "</p>\n"
      ],
      "text/plain": [
       "VBox(children=(HBox(children=(VBox(children=(HBox(children=(Button(description='Go Forward', layout=Layout(flex='1 1 auto', width='auto'), style=ButtonStyle(button_color='#888888')),)), HBox(children=(Button(description='Left', layout=Layout(flex='1 1 auto', width='auto'), style=ButtonStyle(button_color='#888888')), Button(description='Stop', layout=Layout(flex='1 1 auto', width='auto'), style=ButtonStyle(button_color='red')), Button(description='Right', layout=Layout(flex='1 1 auto', width='auto'), style=ButtonStyle(button_color='#888888')))), HBox(children=(Button(description='Go Backward', layout=Layout(flex='1 1 auto', width='auto'), style=ButtonStyle(button_color='#888888')),))), layout=Layout(align_items='stretch', border='solid', display='flex', flex_flow='column', width='30%')),)), HBox(children=(Output(),))))"
      ]
     },
     "metadata": {},
     "output_type": "display_data"
    }
   ],
   "source": [
    "import ipywidgets\n",
    "import easygopigo3\n",
    "\n",
    "robot = easygopigo3.EasyGoPiGo3()\n",
    "output = ipywidgets.Output()\n",
    "\n",
    "def on_forward_clicked(b):\n",
    "    with output:\n",
    "        print( \"Forward!\" )\n",
    "        robot.forward()\n",
    "    \n",
    "def on_backward_clicked(b):\n",
    "    with output:\n",
    "        print( \"Backward!\" )\n",
    "        robot.backward()\n",
    "    \n",
    "def on_stop_clicked(b):\n",
    "    with output:\n",
    "        print( \"STOP!\" )\n",
    "        robot.stop()\n",
    "    \n",
    "def on_left_clicked(b):\n",
    "    with output:\n",
    "        print( \"Left!\" )\n",
    "        robot.left()\n",
    "    \n",
    "def on_right_clicked(b):\n",
    "    with output:\n",
    "        print( \"Right!\" )\n",
    "        robot.right()\n",
    "\n",
    "def controls():\n",
    "\n",
    "    items_layout = ipywidgets.Layout(flex='1 1 auto', width='auto')     # override the default width of the button to 'auto' to let the button grow\n",
    "\n",
    "    def make_button( label, on_click, layout=items_layout, color='#888888' ):\n",
    "        button = ipywidgets.Button( description=label, layout=layout )\n",
    "        button.style.button_color = color\n",
    "        button.on_click(on_click)\n",
    "        return button\n",
    "        \n",
    "    bForward =  make_button( label=\"Go Forward\",  on_click=on_forward_clicked  )\n",
    "    bLeft =     make_button( label=\"Left\",        on_click=on_left_clicked     )\n",
    "    bStop =     make_button( label=\"Stop\",        on_click=on_stop_clicked     , color='red' )\n",
    "    bRight =    make_button( label=\"Right\",       on_click=on_right_clicked    )\n",
    "    bBackward = make_button( label=\"Go Backward\", on_click=on_backward_clicked )\n",
    "\n",
    "    box_layout = ipywidgets.Layout(display='flex', flex_flow='column', align_items='stretch', border='solid', width='30%')\n",
    "\n",
    "    move_box = ipywidgets.VBox( [\n",
    "        ipywidgets.HBox( [ bForward ] ),\n",
    "        ipywidgets.HBox( [ bLeft, bStop, bRight ] ),\n",
    "        ipywidgets.HBox( [ bBackward ] ),\n",
    "    ], layout=box_layout )\n",
    "    \n",
    "    return ipywidgets.VBox( [\n",
    "        ipywidgets.HBox( [ move_box ] ),\n",
    "        ipywidgets.HBox( [ output ] ),\n",
    "    ] )\n",
    "\n",
    "display( controls() )\n"
   ]
  },
  {
   "cell_type": "code",
   "execution_count": null,
   "metadata": {},
   "outputs": [],
   "source": []
  },
  {
   "cell_type": "code",
   "execution_count": null,
   "metadata": {},
   "outputs": [],
   "source": []
  }
 ],
 "metadata": {
  "kernelspec": {
   "display_name": "Python 3",
   "language": "python",
   "name": "python3"
  },
  "language_info": {
   "codemirror_mode": {
    "name": "ipython",
    "version": 3
   },
   "file_extension": ".py",
   "mimetype": "text/x-python",
   "name": "python",
   "nbconvert_exporter": "python",
   "pygments_lexer": "ipython3",
   "version": "3.6.6"
  }
 },
 "nbformat": 4,
 "nbformat_minor": 2
}
