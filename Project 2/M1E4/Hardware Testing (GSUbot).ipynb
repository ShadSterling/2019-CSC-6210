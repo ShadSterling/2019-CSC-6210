{
 "cells": [
  {
   "cell_type": "markdown",
   "metadata": {},
   "source": [
    "# Welcome to the Hardware Troubleshooting Notebook\n",
    "\n",
    "##### To run a cell, click to the left of the cell, where it says **In []**.  A vertical blue line will appear, indicating this cell is about to be run. Then press **Shift Enter** or the **Run** button ![title](run.png) right above. \n",
    "\n",
    "##### The cell just below must be run to load up the proper libraries.\n",
    "\n"
   ]
  },
  {
   "cell_type": "code",
   "execution_count": null,
   "metadata": {},
   "outputs": [],
   "source": [
    "# Run this cell first\n",
    "import GSUbot\n",
    "import time\n",
    "\n",
    "robot = GSUbot.Robot()"
   ]
  },
  {
   "cell_type": "markdown",
   "metadata": {},
   "source": [
    "##### The following cell can be used at any time to stop the GoPiGo3, or alternatively you can use the Red Stop sign at the top"
   ]
  },
  {
   "cell_type": "code",
   "execution_count": null,
   "metadata": {},
   "outputs": [],
   "source": [
    "robot.reset_all()"
   ]
  },
  {
   "cell_type": "markdown",
   "metadata": {},
   "source": [
    "# Battery Level\n",
    "\n",
    "##### First, let's get a battery reading:"
   ]
  },
  {
   "cell_type": "code",
   "execution_count": null,
   "metadata": {},
   "outputs": [],
   "source": [
    "print(\"Battery voltage : \", robot.vitals.battery_volts ) # read and display the current battery voltage"
   ]
  },
  {
   "cell_type": "markdown",
   "metadata": {},
   "source": [
    "##### Then let's get some information from the GoPiGo3 board:"
   ]
  },
  {
   "cell_type": "code",
   "execution_count": null,
   "metadata": {},
   "outputs": [],
   "source": [
    "print(\"Manufacturer    : \", robot.hardware.manufacturer  ) # read and display the manufacturer\n",
    "print(\"Board           : \", robot.hardware.model         ) # read and display the model\n",
    "print(\"Hardware version: \", robot.hardware.version       ) # read and display the hardware version\n",
    "print(\"Serial Number   : \", robot.hardware.serial        ) # read and display the serial number\n",
    "print(\"Firmware version: \", robot.firmware.version       ) # read and display the firmware version\n",
    "print(\"Battery voltage : \", robot.vitals.battery_volts   ) # read and display the current battery voltage\n",
    "print(\"5v voltage      : \", robot.vitals.regulator_volts ) # read and display the current 5v regulator voltage"
   ]
  },
  {
   "cell_type": "markdown",
   "metadata": {},
   "source": [
    "# LED test\n",
    "\n",
    "##### Let's test the LEDs. The following cell will change the color of Dex's eyes."
   ]
  },
  {
   "cell_type": "code",
   "execution_count": null,
   "metadata": {},
   "outputs": [],
   "source": [
    "colors = [ (255,0,0), (255,255,0), (255,255,255), (0,255,0), (0,255,255), (0,0,255), (0,0,0) ]\n",
    "for color in colors:\n",
    "    robot.eyes(color)\n",
    "    time.sleep(0.5)\n"
   ]
  },
  {
   "cell_type": "markdown",
   "metadata": {},
   "source": [
    "##### Now let's check the blinkers. The blinkers are two small red LEDs underneath the red board, at the front.  This makes them blink 5 times."
   ]
  },
  {
   "cell_type": "code",
   "execution_count": null,
   "metadata": {},
   "outputs": [],
   "source": [
    "for i in range(5):\n",
    "    robot.blinkers(True)\n",
    "    time.sleep(0.5)\n",
    "    robot.blinkers(False)\n",
    "    time.sleep(0.5)"
   ]
  },
  {
   "cell_type": "markdown",
   "metadata": {},
   "source": [
    "# Motors and Encoders Test\n",
    "\n",
    "##### Before running the next cells ensure your GoPiGo3 has room to move around without falling. Or flip it on its back, stuck-turtle-like.\n",
    "##### The following cell will run for approximately 5 seconds and will report encoder readings.  "
   ]
  },
  {
   "cell_type": "code",
   "execution_count": null,
   "metadata": {},
   "outputs": [],
   "source": [
    "robot.forward(100)\n",
    "start = time.time()\n",
    "lapse = 0\n",
    "while lapse < 5:\n",
    "    lapse = time.time() - start\n",
    "    time.sleep(0.5)\n",
    "    print(\"LEFT: {}  RIGHT:{}\".format(robot.motor_status(\"left\"),robot.motor_status(\"right\")))\n",
    "\n",
    "passed_test = robot.motor_status(\"left\").flags==0 and robot.motor_status(\"right\").flags==0\n",
    "robot.stop()\n",
    "if passed_test:\n",
    "    print(\"Test passed.\")\n",
    "else:\n",
    "    print(\"Test failed.\")"
   ]
  },
  {
   "cell_type": "markdown",
   "metadata": {},
   "source": [
    "##### If the above test passed, you can go ahead with the following cell. \n",
    "##### The GoPiGo3 will drive forward for 10 cm and the output value at the end should be approximately 10.  \n",
    "\n",
    "##### Should this test fail, you can stop the robot by clicking the Red Stop button at the top."
   ]
  },
  {
   "cell_type": "code",
   "execution_count": null,
   "metadata": {},
   "outputs": [],
   "source": [
    "robot.odometer_reset()\n",
    "#robot.api_easy.set_speed(robot.api_easy.DEFAULT_SPEED)\n",
    "robot.forward( distance=10 )\n",
    "encoders_read = robot.odometer_read()\n",
    "print(\"Drove {:.2f} cm\".format(encoders_read))\n",
    "if round(encoders_read) == 10:\n",
    "    print(\"Test passed.\")\n",
    "else:\n",
    "    print(\"Test failed.\")"
   ]
  },
  {
   "cell_type": "code",
   "execution_count": null,
   "metadata": {},
   "outputs": [],
   "source": []
  }
 ],
 "metadata": {
  "kernelspec": {
   "display_name": "Python 3",
   "language": "python",
   "name": "python3"
  },
  "language_info": {
   "codemirror_mode": {
    "name": "ipython",
    "version": 3
   },
   "file_extension": ".py",
   "mimetype": "text/x-python",
   "name": "python",
   "nbconvert_exporter": "python",
   "pygments_lexer": "ipython3",
   "version": "3.5.3"
  }
 },
 "nbformat": 4,
 "nbformat_minor": 2
}
