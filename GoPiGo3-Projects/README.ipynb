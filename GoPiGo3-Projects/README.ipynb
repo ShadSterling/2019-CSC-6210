{
 "cells": [
  {
   "cell_type": "markdown",
   "metadata": {},
   "source": [
    "# Welcome to the GoPiGo3 PROJECTS folder\n",
    "\n",
    "This folder contains projects for the GoPiGo3. These projects are intended to showcase what can be done with the GoPiGo3."
   ]
  },
  {
   "cell_type": "markdown",
   "metadata": {},
   "source": [
    "They contain Python files and not notebooks. You can access the code from within a notebook but you cannot execute them.\n",
    "To run them you will need to open up a terminal from the launcher,\n",
    "and navigate to the appropriate folder, then type in \n",
    "\n",
    "`python <filename.py>`"
   ]
  },
  {
   "cell_type": "code",
   "execution_count": null,
   "metadata": {},
   "outputs": [],
   "source": []
  }
 ],
 "metadata": {
  "kernelspec": {
   "display_name": "Python 3",
   "language": "python",
   "name": "python3"
  },
  "language_info": {
   "codemirror_mode": {
    "name": "ipython",
    "version": 3
   },
   "file_extension": ".py",
   "mimetype": "text/x-python",
   "name": "python",
   "nbconvert_exporter": "python",
   "pygments_lexer": "ipython3",
   "version": "3.6.3"
  }
 },
 "nbformat": 4,
 "nbformat_minor": 2
}
